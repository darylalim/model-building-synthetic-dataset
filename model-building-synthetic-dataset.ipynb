{
 "cells": [
  {
   "cell_type": "markdown",
   "id": "6059bdd8-185d-4617-a4a2-517977d02e5a",
   "metadata": {},
   "source": [
    "# Model Building on a Synthetic Dataset"
   ]
  },
  {
   "cell_type": "markdown",
   "id": "225e4b7c-5acd-4c99-98d1-cde743476863",
   "metadata": {},
   "source": [
    "## Table of Contents\n",
    "\n",
    "- [Objective](#objective)\n",
    "- [Exploratory Data Analysis](#eda)\n",
    "- [Data Processing](#data-processing)\n",
    "    - [Encoding training data](#encoding-training-data)\n",
    "    - [Encoding test data](#encoding-test-data)\n",
    "    - [Missing values](#missing-values)\n",
    "- [Modeling](#modeling)\n",
    "    - [Linear Regression](#linear-regression)\n",
    "    - [Random Forest Regressor](#random-forest-regressor)\n",
    "    - [Multiple Regression Models](#multiple-regression-models)\n",
    "    - [Compare Root Mean Square Error (RMSE) and R-Squared for Models](#compare-metrics-all)"
   ]
  },
  {
   "cell_type": "markdown",
   "id": "d98ea275-e21d-494b-8fb7-f322916e16d4",
   "metadata": {},
   "source": [
    "## Objective <a id='objective'></a>"
   ]
  },
  {
   "cell_type": "markdown",
   "id": "1442aede-5306-45c8-9f4d-bb615b86d010",
   "metadata": {},
   "source": [
    "This notebook shows the process of building a predictive model using the data in the training set to predict the target values from the test set.\n",
    "\n",
    "The two synthetic datasets were generated using the same underlying data model.\n",
    "\n",
    "Predictive accuracy will be assessed using the mean squared error metric."
   ]
  },
  {
   "cell_type": "markdown",
   "id": "3b883db5-df6c-4f91-8a83-a2adda602830",
   "metadata": {},
   "source": [
    "## Exploratory Data Analysis <a id='eda'></a>"
   ]
  },
  {
   "cell_type": "code",
   "execution_count": null,
   "id": "980ce78c-ca4a-4f7e-8491-82245570a3f9",
   "metadata": {},
   "outputs": [],
   "source": [
    "# Import libraries\n",
    "import numpy as np\n",
    "import pandas as pd\n",
    "import matplotlib.pyplot as plt\n",
    "import seaborn as sns\n",
    "import random\n",
    "\n",
    "from sklearn.model_selection import train_test_split\n",
    "from sklearn.preprocessing import StandardScaler, LabelEncoder\n",
    "from sklearn.linear_model import LinearRegression, Lasso, Ridge\n",
    "from sklearn.ensemble import RandomForestRegressor\n",
    "from sklearn.metrics import mean_squared_error"
   ]
  },
  {
   "cell_type": "code",
   "execution_count": null,
   "id": "76095029-d945-4ef6-bc60-7a8cb57996c6",
   "metadata": {},
   "outputs": [],
   "source": [
    "# Set random seed for reproducibility\n",
    "random.seed(42)"
   ]
  },
  {
   "cell_type": "code",
   "execution_count": null,
   "id": "8d1e3b7e-c1fd-4486-bb3a-d2c8a6657464",
   "metadata": {},
   "outputs": [],
   "source": [
    "# Read data\n",
    "train_data = pd.read_csv('data/raw/codetest_train.txt', delimiter='\\t')\n",
    "test_data = pd.read_csv('data/raw/codetest_test.txt', delimiter='\\t')"
   ]
  },
  {
   "cell_type": "code",
   "execution_count": null,
   "id": "65ab3c27-d866-4895-9d8a-ca7cbb1fbe69",
   "metadata": {},
   "outputs": [],
   "source": [
    "# Display first 5 rows of training data\n",
    "train_data.head()"
   ]
  },
  {
   "cell_type": "code",
   "execution_count": null,
   "id": "2b39d185-3a12-4f58-9e1e-29faa81e104d",
   "metadata": {},
   "outputs": [],
   "source": [
    "# Summary statistics of training data\n",
    "train_data.describe()"
   ]
  },
  {
   "cell_type": "code",
   "execution_count": null,
   "id": "4c0b688d-9f46-4675-be15-5f41a4e22d40",
   "metadata": {},
   "outputs": [],
   "source": [
    "# Visualize distribution of target variable\n",
    "plt.figure(figsize=(10, 6))\n",
    "sns.histplot(train_data['target'], bins=50, kde=True)\n",
    "plt.title('Distribution of Target Variable')\n",
    "plt.xlabel('Target')\n",
    "plt.ylabel('Frequency')\n",
    "plt.show()"
   ]
  },
  {
   "cell_type": "markdown",
   "id": "a7845843-afeb-4371-a17f-1b9003a7823b",
   "metadata": {},
   "source": [
    "## Data Processing <a id='data-processing'></a>"
   ]
  },
  {
   "cell_type": "markdown",
   "id": "3e86c614-8806-4e4f-894d-385efa1c272b",
   "metadata": {},
   "source": [
    "### Encoding training data <a id='encoding-training-data'></a>"
   ]
  },
  {
   "cell_type": "code",
   "execution_count": null,
   "id": "1cff6306-2e45-4d89-8911-354dcb421d66",
   "metadata": {},
   "outputs": [],
   "source": [
    "# Check for non-numeric columns\n",
    "non_numeric_cols = [col for col, dtype in train_data.dtypes.items() if not pd.api.types.is_numeric_dtype(dtype)]\n",
    "\n",
    "if non_numeric_cols:\n",
    "    print(f'Columns with non-numeric data types: {non_numeric_cols}')\n",
    "else:\n",
    "    print(f'All columns have float or integer data types.')"
   ]
  },
  {
   "cell_type": "code",
   "execution_count": null,
   "id": "c9b1216f-a2af-4d22-8169-be5f58d1650e",
   "metadata": {},
   "outputs": [],
   "source": [
    "# Show first 5 rows of non-numeric columns\n",
    "train_data[['f_61', 'f_121', 'f_215', 'f_237']].head()"
   ]
  },
  {
   "cell_type": "code",
   "execution_count": null,
   "id": "e1f596a2-0185-4f60-9ef7-4e49bec23131",
   "metadata": {},
   "outputs": [],
   "source": [
    "# Select non-numeric features\n",
    "non_numeric_features = train_data.select_dtypes(include='object').columns\n",
    "\n",
    "# Encode non-numeric features\n",
    "encoder = LabelEncoder()\n",
    "train_data[non_numeric_features] = train_data[non_numeric_features].apply(lambda x: encoder.fit_transform(x.astype(str)))\n",
    "\n",
    "# Check all features are numeric\n",
    "train_data.select_dtypes(exclude='float64').columns"
   ]
  },
  {
   "cell_type": "code",
   "execution_count": null,
   "id": "3c86d87c-8cb3-437e-969e-0eb4175402d7",
   "metadata": {},
   "outputs": [],
   "source": [
    "# Show first 5 rows of columns\n",
    "train_data[['f_61', 'f_121', 'f_215', 'f_237']].head()"
   ]
  },
  {
   "cell_type": "markdown",
   "id": "4aeb5d4c-cd76-46a7-b34e-c5b49b6c8b1a",
   "metadata": {},
   "source": [
    "### Encoding test data <a id='encoding-test-data'></a>"
   ]
  },
  {
   "cell_type": "code",
   "execution_count": null,
   "id": "2bb29f9c-3b78-4ba0-9a9d-fe2f9a0e68da",
   "metadata": {},
   "outputs": [],
   "source": [
    "# Check for non-numeric columns\n",
    "non_numeric_cols = [col for col, dtype in test_data.dtypes.items() if not pd.api.types.is_numeric_dtype(dtype)]\n",
    "\n",
    "if non_numeric_cols:\n",
    "    print(f'Columns with non-numeric data types: {non_numeric_cols}')\n",
    "else:\n",
    "    print(f'All columns have float or integer data types.')"
   ]
  },
  {
   "cell_type": "code",
   "execution_count": null,
   "id": "f590377f-5faa-4c35-99f8-60737e089183",
   "metadata": {},
   "outputs": [],
   "source": [
    "# Select non-numeric features\n",
    "non_numeric_features_test = test_data.select_dtypes(include='object').columns\n",
    "\n",
    "# Encode non-numeric features\n",
    "encoder = LabelEncoder()\n",
    "test_data[non_numeric_features_test] = test_data[non_numeric_features_test].apply(lambda x: encoder.fit_transform(x.astype(str)))\n",
    "\n",
    "# Check all features are numeric\n",
    "test_data.select_dtypes(exclude='float64').columns"
   ]
  },
  {
   "cell_type": "markdown",
   "id": "aaf48bb9-91a6-4719-9f56-c7172f2da3bc",
   "metadata": {},
   "source": [
    "### Missing values <a id='missing-values'></a>"
   ]
  },
  {
   "cell_type": "code",
   "execution_count": null,
   "id": "f202cf38-87b5-4a69-b2e5-52018f8773b7",
   "metadata": {},
   "outputs": [],
   "source": [
    "# Check missing values\n",
    "missing_train = train_data.isna().sum()\n",
    "missing_test = test_data.isna().sum()\n",
    "\n",
    "print('Missing values in training data:')\n",
    "print(missing_train[missing_train > 0])\n",
    "\n",
    "print('\\nMissing values in test data:')\n",
    "print(missing_test[missing_test > 0])"
   ]
  },
  {
   "cell_type": "code",
   "execution_count": null,
   "id": "a387f535-e384-4826-96d0-fa33e383bc00",
   "metadata": {},
   "outputs": [],
   "source": [
    "# Fill missing values in training data with median\n",
    "train_data.fillna(train_data.median(), inplace=True)\n",
    "\n",
    "# Fill missing values in test data with median\n",
    "test_data.fillna(test_data.median(), inplace=True)"
   ]
  },
  {
   "cell_type": "code",
   "execution_count": null,
   "id": "00b2c257-8731-4ec7-a7cd-a753b3c09dd8",
   "metadata": {},
   "outputs": [],
   "source": [
    "# Check missing values\n",
    "missing_train = train_data.isna().sum()\n",
    "missing_test = test_data.isna().sum()\n",
    "\n",
    "print('Missing values in training data:')\n",
    "print(missing_train[missing_train > 0])\n",
    "\n",
    "print('\\nMissing values in test data:')\n",
    "print(missing_test[missing_test > 0])"
   ]
  },
  {
   "cell_type": "markdown",
   "id": "115eb9e3-b7a6-45b2-ba87-4b40f0d7d68b",
   "metadata": {},
   "source": [
    "## Modeling <a id='modeling'></a>"
   ]
  },
  {
   "cell_type": "markdown",
   "id": "e2821e83-2a0c-4610-9d2e-7a149baf5f5a",
   "metadata": {},
   "source": [
    "### Linear Regression <a id='linear-regression'></a>"
   ]
  },
  {
   "cell_type": "code",
   "execution_count": null,
   "id": "9aeb0bf5-21c1-4590-888e-db57d73dfad2",
   "metadata": {},
   "outputs": [],
   "source": [
    "# Separate features and target variable in training data\n",
    "X = train_data.drop(columns='target')\n",
    "y = train_data['target']\n",
    "\n",
    "# Split data into training and validation sets\n",
    "X_train, X_val, y_train, y_val = train_test_split(X, y, test_size=0.2, random_state=42)\n",
    "\n",
    "# Normalize features\n",
    "scaler = StandardScaler()\n",
    "X_train_scaled = scaler.fit_transform(X_train)\n",
    "X_val_scaled = scaler.transform(X_val)\n",
    "X_test_scaled = scaler.transform(test_data)\n",
    "\n",
    "# Initialize model\n",
    "lr_model = LinearRegression()\n",
    "\n",
    "# Fit model to training data\n",
    "lr_model.fit(X_train_scaled, y_train)\n",
    "\n",
    "# Make predictions on validation set\n",
    "y_val_pred = lr_model.predict(X_val_scaled)\n",
    "\n",
    "# Calculate mean squared error\n",
    "mse = mean_squared_error(y_val, y_val_pred)\n",
    "mse"
   ]
  },
  {
   "cell_type": "markdown",
   "id": "344c80b8-e23c-4afb-bd30-81a5510493f6",
   "metadata": {},
   "source": [
    "### Random Forest Regressor <a id='random-forest-regressor'></a>"
   ]
  },
  {
   "cell_type": "code",
   "execution_count": null,
   "id": "7a19fc9e-201f-456b-80cc-b77518f822e4",
   "metadata": {},
   "outputs": [],
   "source": [
    "# Initialize model\n",
    "rf_model = RandomForestRegressor(random_state=42)\n",
    "\n",
    "# Fit model to training data\n",
    "rf_model.fit(X_train_scaled, y_train)\n",
    "\n",
    "# Make predictions on validation set\n",
    "y_val_pred_rf = rf_model.predict(X_val_scaled)\n",
    "\n",
    "# Calculate mean squared error\n",
    "mse_rf = mean_squared_error(y_val, y_val_pred_rf)\n",
    "mse_rf"
   ]
  },
  {
   "cell_type": "markdown",
   "id": "b804eff2-12b4-4f67-b2c3-625865d68337",
   "metadata": {},
   "source": [
    "### Multiple Regression Models <a id='multiple-regression-models'></a>"
   ]
  },
  {
   "cell_type": "code",
   "execution_count": null,
   "id": "3453b84d-b00a-462d-85c2-cf4922812758",
   "metadata": {},
   "outputs": [],
   "source": [
    "# Initialize models\n",
    "lasso_model = Lasso(random_state=42)\n",
    "ridge_model = Ridge(random_state=42)\n",
    "\n",
    "# Fit models to training data\n",
    "lasso_model.fit(X_train_scaled, y_train)\n",
    "ridge_model.fit(X_train_scaled, y_train)\n",
    "\n",
    "# Make predictions on validation set\n",
    "y_val_pred_lasso = lasso_model.predict(X_val_scaled)\n",
    "y_val_pred_ridge = ridge_model.predict(X_val_scaled)\n",
    "\n",
    "# Calculate mean squared error\n",
    "mse_lasso = mean_squared_error(y_val, y_val_pred_lasso)\n",
    "mse_ridge = mean_squared_error(y_val, y_val_pred_ridge)"
   ]
  },
  {
   "cell_type": "markdown",
   "id": "959b1f4e-e52b-490c-afad-af92ea3e1ec7",
   "metadata": {},
   "source": [
    "### Compare Root Mean Square Error (RMSE) and R-Squared for Models <a id='compare-metrics-all'></a>"
   ]
  },
  {
   "cell_type": "code",
   "execution_count": null,
   "id": "964fe63b-0cd6-4df7-9972-572932caab96",
   "metadata": {},
   "outputs": [],
   "source": [
    "# Calculate RMSE for all models\n",
    "rmse_lr = np.sqrt(mse)\n",
    "rmse_rf = np.sqrt(mse_rf)\n",
    "rmse_lasso = np.sqrt(mse_lasso)\n",
    "rmse_ridge = np.sqrt(mse_ridge)\n",
    "\n",
    "# Calculate R-squared for all models\n",
    "r2_lr = lr_model.score(X_val_scaled, y_val)\n",
    "r2_rf = rf_model.score(X_val_scaled, y_val)\n",
    "r2_lasso = lasso_model.score(X_val_scaled, y_val)\n",
    "r2_ridge = ridge_model.score(X_val_scaled, y_val)\n",
    "\n",
    "models_all = ['Linear Regression', 'Random Forest', 'Lasso', 'Ridge']\n",
    "mse_values_all = [mse, mse_rf, mse_lasso, mse_ridge]\n",
    "rmse_values_all = [rmse_lr, rmse_rf, rmse_lasso, rmse_ridge]\n",
    "r2_values_all = [r2_lr, r2_rf, r2_lasso, r2_ridge]"
   ]
  },
  {
   "cell_type": "code",
   "execution_count": null,
   "id": "ce540842-d423-4369-b003-46a9ec142c34",
   "metadata": {},
   "outputs": [],
   "source": [
    "# Create figure and subplots\n",
    "fig, ax = plt.subplots(nrows=1, ncols=2, figsize=(15, 6))\n",
    "\n",
    "# Create RMSE plot\n",
    "ax[0].barh(y=models_all, width=rmse_values_all, color='#2caffe')\n",
    "ax[0].set_xlabel('Root Mean Squared Error (RMSE)')\n",
    "ax[0].set_title('Comparison of RMSE for All Models')\n",
    "\n",
    "# Create R-squared plot\n",
    "ax[1].barh(y=models_all, width=r2_values_all, color='#544fc5')\n",
    "ax[1].set_xlabel('R-Squared ($R^2$)')\n",
    "ax[1].set_title('Comparison of $R^2$ for All Models')\n",
    "\n",
    "# Fit figure\n",
    "plt.tight_layout()\n",
    "\n",
    "# Show figure\n",
    "plt.show()"
   ]
  },
  {
   "cell_type": "markdown",
   "id": "7e7d4124-08a7-4622-b32f-daedbcbccef2",
   "metadata": {},
   "source": [
    "Here, the random forest regressor model has the lowest root mean squared error (RMSE)."
   ]
  },
  {
   "cell_type": "markdown",
   "id": "55fdf804-5c87-414a-94db-70bc86c638fd",
   "metadata": {},
   "source": [
    "This notebook was inspired by the [Model Building on a Synthetic Dataset](https://platform.stratascratch.com/data-projects/model-building-synthetic-dataset) data project on [StrataScratch](https://www.stratascratch.com/)."
   ]
  },
  {
   "cell_type": "code",
   "execution_count": null,
   "id": "77674243-36cb-4a33-b54a-bf24bbada27c",
   "metadata": {},
   "outputs": [],
   "source": []
  }
 ],
 "metadata": {
  "kernelspec": {
   "display_name": "Python 3 (ipykernel)",
   "language": "python",
   "name": "python3"
  },
  "language_info": {
   "codemirror_mode": {
    "name": "ipython",
    "version": 3
   },
   "file_extension": ".py",
   "mimetype": "text/x-python",
   "name": "python",
   "nbconvert_exporter": "python",
   "pygments_lexer": "ipython3",
   "version": "3.11.6"
  }
 },
 "nbformat": 4,
 "nbformat_minor": 5
}
